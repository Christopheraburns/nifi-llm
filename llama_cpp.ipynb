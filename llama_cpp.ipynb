{
 "cells": [
  {
   "cell_type": "code",
   "execution_count": 2,
   "id": "0196dad5-d685-4a07-8773-6baaee79944d",
   "metadata": {},
   "outputs": [],
   "source": [
    "from llama_cpp import Llama"
   ]
  },
  {
   "cell_type": "code",
   "execution_count": 3,
   "id": "d4df4033-b514-4d0a-bc7f-93292e66c496",
   "metadata": {},
   "outputs": [],
   "source": [
    "llm = Llama.from_pretrained(\n",
    "    repo_id=\"TheBloke/Mistral-7B-Instruct-v0.1-GGUF\",\n",
    "    filename=\"mistral-7b-instruct-v0.1.Q4_K_M.gguf\",\n",
    "    verbose=False\n",
    ")"
   ]
  },
  {
   "cell_type": "code",
   "execution_count": 4,
   "id": "9cab7ce0-12a4-4732-9bbc-115462924bd2",
   "metadata": {},
   "outputs": [],
   "source": [
    "output = llm(\"Q: What are the names of the planets in the solar system? A: \", max_tokens=100,stop=[\"Q:\", \"\\n\"], echo=False)"
   ]
  },
  {
   "cell_type": "code",
   "execution_count": 7,
   "id": "44c0b1cf-2e4b-4033-b829-664f46cef5bc",
   "metadata": {},
   "outputs": [
    {
     "name": "stdout",
     "output_type": "stream",
     "text": [
      "{'id': 'cmpl-0759981c-5974-4813-9946-e6a35391f861', 'object': 'text_completion', 'created': 1709296254, 'model': '/home/chris/.cache/huggingface/hub/models--TheBloke--Mistral-7B-Instruct-v0.1-GGUF/snapshots/731a9fc8f06f5f5e2db8a0cf9d256197eb6e05d1/./mistral-7b-instruct-v0.1.Q4_K_M.gguf', 'choices': [{'text': '1. Mercury', 'index': 0, 'logprobs': None, 'finish_reason': 'stop'}], 'usage': {'prompt_tokens': 18, 'completion_tokens': 5, 'total_tokens': 23}}\n"
     ]
    }
   ],
   "source": [
    "print(output)"
   ]
  },
  {
   "cell_type": "code",
   "execution_count": null,
   "id": "d7cf6804-d810-402f-87a8-6c4879251861",
   "metadata": {},
   "outputs": [],
   "source": []
  },
  {
   "cell_type": "code",
   "execution_count": null,
   "id": "05411621-03ec-4c76-bf34-e4556bcce48b",
   "metadata": {},
   "outputs": [],
   "source": []
  }
 ],
 "metadata": {
  "kernelspec": {
   "display_name": "Python 3 (ipykernel)",
   "language": "python",
   "name": "python3"
  },
  "language_info": {
   "codemirror_mode": {
    "name": "ipython",
    "version": 3
   },
   "file_extension": ".py",
   "mimetype": "text/x-python",
   "name": "python",
   "nbconvert_exporter": "python",
   "pygments_lexer": "ipython3",
   "version": "3.10.12"
  }
 },
 "nbformat": 4,
 "nbformat_minor": 5
}
